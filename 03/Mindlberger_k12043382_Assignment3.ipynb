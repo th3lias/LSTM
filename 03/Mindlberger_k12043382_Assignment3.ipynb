{
 "cells": [
  {
   "cell_type": "markdown",
   "id": "85e442cc",
   "metadata": {},
   "source": [
    "# Assignment 3: Text processing with LSTM in PyTorch\n",
    "\n",
    "*Author:* Thomas Adler\n",
    "\n",
    "*Copyright statement:* This  material,  no  matter  whether  in  printed  or  electronic  form,  may  be  used  for  personal  and non-commercial educational use only.  Any reproduction of this manuscript, no matter whether as a whole or in parts, no matter whether in printed or in electronic form, requires explicit prior acceptance of the authors.\n",
    "\n",
    "In this assignment you will a train an LSTM to generate text. To be able to feed text into (recurrent) neural networks we first have to choose a good representation. There are several options to do so ranging from simple character embeddings to more sophisticated approaches like [word embeddings](https://towardsdatascience.com/introduction-to-word-embedding-and-word2vec-652d0c2060fa) or [token embeddings](https://medium.com/@_init_/why-bert-has-3-embedding-layers-and-their-implementation-details-9c261108e28a). We will use a character embedding in this assignment. \n",
    "\n",
    "Character embeddings work as follows. First we define an alphabet, a set of characters that we want to be able to represent. To feed a character into our network we use a one-hot vector. The dimension of this vector is equal to the size of our alphabet and the \"hot\" position indicates the character we want to represent. While this is logically a decent representation (all characters have the same norm, are orthogonal to one another, etc.) it is inefficient in terms of memory because we have to store a lot of zeros. In the first layer of our network we will multiply our one-hot vector with a weight matrix, i.e. we compute the preactivation by a matrix-vector product of the form $We_i$, where $e_i$ is the $i$-th canonical basis vector. This operation corresponds to selecting the $i$-th column of $W$. So an efficient implementation is to perform a simple lookup operation in $W$. This is how embedding layers work also for word or token embeddings. They are learnable lookup tables. \n",
    "\n",
    "## Exercise 1: Encoding characters\n",
    "\n",
    "Write a class `Encoder` that implements the methods `__init__` and `__call__`. The method `__init__` takes a string as argument that serves as alphabet. The method `__call__` takes one argument. If it is a string then it should return a sequence of integers as `torch.Tensor` of shape  representing the input string. Each integer should represents a character of the alphabet. The alphabet consists of the characters matched by the regex `[a-z0-9 .!?]`. If the input text contains characters that are not in the alphabet, then `__call__` should either remove them or map them to a corresponding character that belongs to the alphabet. If the argument is a `torch.Tensor`, then the method should return a string representation of the input, i.e. it should function as decoder. "
   ]
  },
  {
   "cell_type": "code",
   "execution_count": 13,
   "id": "17f16ae5",
   "metadata": {},
   "outputs": [],
   "source": [
    "import re\n",
    "import torch\n",
    "from typing import Union\n",
    "\n",
    "class Encoder():\n",
    "\n",
    "    def __init__(self, alphabet:str):\n",
    "        self.pattern = r'[a-z0-9 .!?]'\n",
    "        if not re.match(self.pattern, alphabet):\n",
    "            raise ValueError(\"Invalid alphabet\")\n",
    "        self.alphabet = alphabet\n",
    "        self.lookup = {}\n",
    "        for i, char in enumerate(self.alphabet):\n",
    "            self.lookup[char] = i\n",
    "\n",
    "    def __call__(self, x:Union[str, torch.Tensor]) -> Union[torch.Tensor, str]:\n",
    "        if isinstance(x, str):\n",
    "            x = x.lower()\n",
    "            x = ''.join([char if char in self.alphabet else ' ' for char in x])\n",
    "            return torch.tensor([self.lookup[char] for char in x], device='cuda')\n",
    "        elif isinstance(x, torch.Tensor):\n",
    "            res = ''\n",
    "            for i in x:\n",
    "                i = int(i)\n",
    "                if i in self.lookup.values():\n",
    "                    res += self.alphabet[i]\n",
    "            return res\n",
    "        else:\n",
    "            raise ValueError(\"Invalid input type\")"
   ]
  },
  {
   "cell_type": "markdown",
   "id": "3a819873",
   "metadata": {},
   "source": [
    "## Exercise 2: Pytorch Dataset\n",
    "\n",
    "Write a class `TextDataset` that derives from `torch.utlis.data.Dataset`. It should wrap a text file and utilize it for training with pytorch. Implement the methods `__init__`, `__len__`, `__getitem__`. The method `__init__` should take a path to a text file as string and an integer `l` specifying the length of one sample sequence. The method `__len__` takes no arguments and should return the size of the dataset, i.e. the number of sample sequences in the dataset. The method `__getitem__` should take an integer indexing a sample sequence and should return that sequence as a `torch.Tensor`. The input file can be viewed as one long sequence. The first sample sequence consists of the characters at positions `0..l-1` in the input file. The second sequence consists of the characters at positions `l..2*l-1` and so on. That is, the samples of our dataset are non-overlapping sequences. The last incomplete sequence may be dropped. "
   ]
  },
  {
   "cell_type": "code",
   "execution_count": 14,
   "id": "9df917ce",
   "metadata": {},
   "outputs": [],
   "source": [
    "import torch\n",
    "from torch.utils.data import Dataset\n",
    "\n",
    "########## YOUR SOLUTION HERE ##########\n",
    "class TextDataset(Dataset):\n",
    "\n",
    "    def __init__(self, path: str, l:int):\n",
    "        super().__init__()\n",
    "        self.path = path\n",
    "        self.l = l\n",
    "        self.enc_dec = Encoder('abcdefghijklmnopqrstuvwxyz0123456789 .!?')\n",
    "\n",
    "        with open(self.path, 'r') as f:\n",
    "            self.text = f.read()\n",
    "        \n",
    "        self.input = [self.text[i:i+self.l] for i in range(0, len(self.text), self.l)]\n",
    "        self.target = [self.text[i+1:i+self.l+1] for i in range(0, len(self.text), self.l)]\n",
    "\n",
    "        if len(self.input[-1]) < self.l:\n",
    "            self.input.pop()\n",
    "            self.target.pop()\n",
    "\n",
    "    def __len__(self):\n",
    "        return len(self.input)\n",
    "\n",
    "    def __getitem__(self, idx:int):\n",
    "        enc_input = self.enc_dec(self.input[idx])\n",
    "        enc_target = self.enc_dec(self.target[idx])\n",
    "        return enc_input, enc_target"
   ]
  },
  {
   "cell_type": "markdown",
   "id": "42e5724f",
   "metadata": {},
   "source": [
    "## Exercise 3: The Model\n",
    "\n",
    "Write a class `NextCharLSTM` that derives from `torch.nn.Module` and takes `alphabet_size`, the `embedding_dim`, and the `hidden_dim` as arguments. It should consist of a `torch.nn.Embedding` layer that maps the alphabet to embeddings, a `torch.nn.LSTM` that takes the embeddings as inputs and maps them to hidden states, and a `torch.nn.Linear` output layer that maps the hidden states of the LSTM back to the alphabet. Implement the methods `__init__` that sets up the module and `forward` that takes an input sequence and returns the logits (i.e. no activation function on the output layer) of the model prediction at every time step. "
   ]
  },
  {
   "cell_type": "code",
   "execution_count": 15,
   "id": "459fe907",
   "metadata": {},
   "outputs": [],
   "source": [
    "import torch.nn as nn\n",
    "import torch.nn.functional as F\n",
    "\n",
    "########## YOUR SOLUTION HERE ##########\n",
    "\n",
    "class NextCharLSTM(nn.Module):\n",
    "    def __init__(self, alphabet_size:int, embedding_dim: int, hidden_dim: int):\n",
    "        super().__init__()\n",
    "        self.alphabet_size = alphabet_size\n",
    "        self.embedding_dim = embedding_dim\n",
    "        self.hidden_dim = hidden_dim\n",
    "        self.embedding = nn.Embedding(self.alphabet_size, self.embedding_dim, device='cuda')\n",
    "        self.lstm = nn.LSTM(self.embedding_dim, self.hidden_dim, batch_first=True, device='cuda')\n",
    "        self.linear = nn.Linear(self.hidden_dim, self.alphabet_size, device='cuda')\n",
    "\n",
    "\n",
    "    def forward(self, x):\n",
    "        x = self.embedding(x)\n",
    "        x, _ = self.lstm(x)\n",
    "        return self.linear(x)\n"
   ]
  },
  {
   "cell_type": "markdown",
   "id": "bd7cb10d",
   "metadata": {},
   "source": [
    "## Exercise 4: Training/Validation Epoch\n",
    "\n",
    "Write a function `epoch` that takes a `torch.utils.data.DataLoader`, a `NextCharLSTM`, and a `torch.optim.Optimizer` as arguments, where the last one might be `None`. If the optimizer is `None`, then the function should validate the model. Otherwise it should train the model for next-character prediction in the many-to-many setting. That is, given a sequence `x` of length `l`, the input sequence is `x[:l-1]` and the corresponding target sequence is `x[1:]`. The function should perform one epoch of training/validation and return the loss values of each mini batch as a numpy array. Use the cross-entropy loss function for both training and validation. "
   ]
  },
  {
   "cell_type": "code",
   "execution_count": 16,
   "id": "13f33250",
   "metadata": {},
   "outputs": [],
   "source": [
    "from torch.utils.data import DataLoader\n",
    "import numpy as np\n",
    "\n",
    "########## YOUR SOLUTION HERE ##########\n",
    "\n",
    "def epoch(dataloader: DataLoader, model: NextCharLSTM, optimizer:Union[torch.optim.Optimizer, None]):\n",
    "    loss_fn = nn.CrossEntropyLoss()\n",
    "\n",
    "    if optimizer is None:\n",
    "        losses_eval = []\n",
    "        model.eval()\n",
    "        with torch.no_grad():\n",
    "            for input, target in dataloader:\n",
    "                output = model(input)\n",
    "                l = loss_fn(output.swapaxes(1, 2), target)\n",
    "                losses_eval.append(l.item())\n",
    "            return np.array(losses_eval)\n",
    "        \n",
    "    else:\n",
    "        model.train()\n",
    "        losses_train = []\n",
    "        for input, target in dataloader:\n",
    "            optimizer.zero_grad()\n",
    "            output = model(input)\n",
    "            l = loss_fn(output.swapaxes(1, 2), target)\n",
    "            l.backward()\n",
    "            optimizer.step()\n",
    "            losses_train.append(l.item())\n",
    "        \n",
    "        return np.array(losses_train)\n",
    "        \n",
    "    "
   ]
  },
  {
   "cell_type": "markdown",
   "id": "a3cb856c",
   "metadata": {},
   "source": [
    "## Exercise 5: Model Selection\n",
    "\n",
    "Usually, we would now train and validate our model on a grid of with different hyperparameters to see which setting performs best. However, this is pretty expensive in terms of compute so we will provide you with a setting that should work quite well. Train your model for 30 epochs using `torch.optim.Adam`. Validate your model after every epoch and persist the model that performs best on the validation set using `torch.save`. Visualize and discuss the training and validation progress. "
   ]
  },
  {
   "cell_type": "code",
   "execution_count": 17,
   "id": "8987ae83",
   "metadata": {},
   "outputs": [
    {
     "name": "stderr",
     "output_type": "stream",
     "text": [
      "/home/th3lias/workspace/LSTM/.venv/lib/python3.11/site-packages/torch/cuda/__init__.py:716: UserWarning: Can't initialize NVML\n",
      "  warnings.warn(\"Can't initialize NVML\")\n"
     ]
    },
    {
     "name": "stdout",
     "output_type": "stream",
     "text": [
      "Epoch 1/100 - Train loss: 3.0152451923915318, Valid loss: 2.858927011489868\n",
      "Epoch 2/100 - Train loss: 2.7621460914611817, Valid loss: 2.681490659713745\n",
      "Epoch 3/100 - Train loss: 2.547360270363944, Valid loss: 2.5217602252960205\n",
      "Epoch 4/100 - Train loss: 2.402247224535261, Valid loss: 2.408686637878418\n",
      "Epoch 5/100 - Train loss: 2.268830449240548, Valid loss: 2.328293800354004\n",
      "Epoch 6/100 - Train loss: 2.1510598591395786, Valid loss: 2.203855037689209\n",
      "Epoch 7/100 - Train loss: 2.0358044930866788, Valid loss: 2.1143181324005127\n",
      "Epoch 8/100 - Train loss: 1.9397313833236693, Valid loss: 2.0369889736175537\n",
      "Epoch 9/100 - Train loss: 1.8547570194516863, Valid loss: 1.9735215902328491\n",
      "Epoch 10/100 - Train loss: 1.784857988357544, Valid loss: 1.9047369956970215\n",
      "Epoch 11/100 - Train loss: 1.721504306793213, Valid loss: 1.851344347000122\n",
      "Epoch 12/100 - Train loss: 1.664488901410784, Valid loss: 1.79962158203125\n",
      "Epoch 13/100 - Train loss: 1.6158819811684744, Valid loss: 1.7655198574066162\n",
      "Epoch 14/100 - Train loss: 1.5714102847235543, Valid loss: 1.720116138458252\n",
      "Epoch 15/100 - Train loss: 1.5335768359048025, Valid loss: 1.6846235990524292\n",
      "Epoch 16/100 - Train loss: 1.495188501902989, Valid loss: 1.6461234092712402\n",
      "Epoch 17/100 - Train loss: 1.4615805080958775, Valid loss: 1.6188533306121826\n",
      "Epoch 18/100 - Train loss: 1.4348442145756313, Valid loss: 1.5906093120574951\n",
      "Epoch 19/100 - Train loss: 1.4054236003330776, Valid loss: 1.5667306184768677\n",
      "Epoch 20/100 - Train loss: 1.381445278440203, Valid loss: 1.5437473058700562\n",
      "Epoch 21/100 - Train loss: 1.3591833591461182, Valid loss: 1.5245411396026611\n",
      "Epoch 22/100 - Train loss: 1.3374409028462002, Valid loss: 1.5062202215194702\n",
      "Epoch 23/100 - Train loss: 1.3197170189448766, Valid loss: 1.4892406463623047\n",
      "Epoch 24/100 - Train loss: 1.2989090170179094, Valid loss: 1.4791420698165894\n",
      "Epoch 25/100 - Train loss: 1.284421375819615, Valid loss: 1.4573131799697876\n",
      "Epoch 26/100 - Train loss: 1.2664274113518852, Valid loss: 1.4506125450134277\n",
      "Epoch 27/100 - Train loss: 1.2538793325424193, Valid loss: 1.435365080833435\n",
      "Epoch 28/100 - Train loss: 1.2372195788792202, Valid loss: 1.4198174476623535\n",
      "Epoch 29/100 - Train loss: 1.225612027304513, Valid loss: 1.4188677072525024\n",
      "Epoch 30/100 - Train loss: 1.2132797615868705, Valid loss: 1.4065260887145996\n",
      "Epoch 31/100 - Train loss: 1.2023839099066598, Valid loss: 1.3999652862548828\n",
      "Epoch 32/100 - Train loss: 1.1913270780018397, Valid loss: 1.3874881267547607\n",
      "Epoch 33/100 - Train loss: 1.1769019978387014, Valid loss: 1.3771898746490479\n",
      "Epoch 34/100 - Train loss: 1.1666587591171265, Valid loss: 1.3732755184173584\n",
      "Epoch 35/100 - Train loss: 1.15680205481393, Valid loss: 1.3656611442565918\n",
      "Epoch 36/100 - Train loss: 1.1499503203800747, Valid loss: 1.3575646877288818\n",
      "Epoch 37/100 - Train loss: 1.1388016223907471, Valid loss: 1.3495439291000366\n",
      "Epoch 38/100 - Train loss: 1.1293618849345617, Valid loss: 1.3480017185211182\n",
      "Epoch 39/100 - Train loss: 1.1206295558384487, Valid loss: 1.3382619619369507\n",
      "Epoch 40/100 - Train loss: 1.1099411725997925, Valid loss: 1.339186191558838\n",
      "Epoch 41/100 - Train loss: 1.1060222693852015, Valid loss: 1.329845666885376\n",
      "Epoch 42/100 - Train loss: 1.0986013514654978, Valid loss: 1.3280911445617676\n",
      "Epoch 43/100 - Train loss: 1.0897468430655344, Valid loss: 1.318107008934021\n",
      "Epoch 44/100 - Train loss: 1.0809662342071533, Valid loss: 1.3169796466827393\n",
      "Epoch 45/100 - Train loss: 1.0739631618772234, Valid loss: 1.3212968111038208\n",
      "Epoch 46/100 - Train loss: 1.066129333632333, Valid loss: 1.3103070259094238\n",
      "Epoch 47/100 - Train loss: 1.058576692853655, Valid loss: 1.302435040473938\n",
      "Epoch 48/100 - Train loss: 1.050381943157741, Valid loss: 1.305328607559204\n",
      "Epoch 49/100 - Train loss: 1.0449182169778006, Valid loss: 1.3019682168960571\n",
      "Epoch 50/100 - Train loss: 1.0385939053126745, Valid loss: 1.2975163459777832\n",
      "Epoch 51/100 - Train loss: 1.0332985026495798, Valid loss: 1.3039708137512207\n",
      "Epoch 52/100 - Train loss: 1.0257090619632176, Valid loss: 1.2934738397598267\n",
      "Epoch 53/100 - Train loss: 1.0188635775021144, Valid loss: 1.2927160263061523\n",
      "Epoch 54/100 - Train loss: 1.011422233922141, Valid loss: 1.2907283306121826\n",
      "Epoch 55/100 - Train loss: 1.007631858757564, Valid loss: 1.2887927293777466\n",
      "Epoch 56/100 - Train loss: 0.9977430020059858, Valid loss: 1.2828935384750366\n",
      "Epoch 57/100 - Train loss: 0.9919935056141445, Valid loss: 1.2867076396942139\n",
      "Epoch 58/100 - Train loss: 0.9861712523869106, Valid loss: 1.2918540239334106\n",
      "Epoch 59/100 - Train loss: 0.9804501584597997, Valid loss: 1.289572834968567\n",
      "Epoch 60/100 - Train loss: 0.9752897466932025, Valid loss: 1.2861149311065674\n",
      "Epoch 61/100 - Train loss: 0.9693740282739912, Valid loss: 1.2905464172363281\n",
      "Epoch 62/100 - Train loss: 0.9620994431631905, Valid loss: 1.2906535863876343\n",
      "Epoch 63/100 - Train loss: 0.9570601463317872, Valid loss: 1.286733865737915\n",
      "Epoch 64/100 - Train loss: 0.9504723157201495, Valid loss: 1.2888425588607788\n",
      "Epoch 65/100 - Train loss: 0.9425540174756731, Valid loss: 1.2859126329421997\n",
      "Epoch 66/100 - Train loss: 0.9384006295885359, Valid loss: 1.2878111600875854\n",
      "Epoch 67/100 - Train loss: 0.9327324645859855, Valid loss: 1.2892407178878784\n",
      "Epoch 68/100 - Train loss: 0.9289606486048018, Valid loss: 1.280360221862793\n",
      "Epoch 69/100 - Train loss: 0.9200327822140285, Valid loss: 1.2846472263336182\n",
      "Epoch 70/100 - Train loss: 0.9124163491385323, Valid loss: 1.2834444046020508\n",
      "Epoch 71/100 - Train loss: 0.9067995292799813, Valid loss: 1.2936574220657349\n",
      "Epoch 72/100 - Train loss: 0.9022791045052665, Valid loss: 1.2865583896636963\n",
      "Epoch 73/100 - Train loss: 0.8957186647823878, Valid loss: 1.2902804613113403\n",
      "Epoch 74/100 - Train loss: 0.8909032600266593, Valid loss: 1.2918832302093506\n",
      "Epoch 75/100 - Train loss: 0.8854883755956378, Valid loss: 1.2950713634490967\n",
      "Epoch 76/100 - Train loss: 0.8772799900599888, Valid loss: 1.2975062131881714\n",
      "Epoch 77/100 - Train loss: 0.8721601707594735, Valid loss: 1.293243408203125\n",
      "Epoch 78/100 - Train loss: 0.8674957292420523, Valid loss: 1.2975798845291138\n",
      "Epoch 79/100 - Train loss: 0.8602353504725865, Valid loss: 1.2976231575012207\n",
      "Epoch 80/100 - Train loss: 0.8533893806593759, Valid loss: 1.2984038591384888\n",
      "Epoch 81/100 - Train loss: 0.8468950646264213, Valid loss: 1.3081800937652588\n",
      "Epoch 82/100 - Train loss: 0.8408443587166923, Valid loss: 1.3057129383087158\n",
      "Epoch 83/100 - Train loss: 0.835927859374455, Valid loss: 1.3151406049728394\n",
      "Epoch 84/100 - Train loss: 0.831922117301396, Valid loss: 1.3074324131011963\n",
      "Epoch 85/100 - Train loss: 0.8245895079204014, Valid loss: 1.3250049352645874\n",
      "Epoch 86/100 - Train loss: 0.8196864809308734, Valid loss: 1.3172110319137573\n",
      "Epoch 87/100 - Train loss: 0.8112205335072109, Valid loss: 1.3180872201919556\n",
      "Epoch 88/100 - Train loss: 0.8035482219287328, Valid loss: 1.3297640085220337\n",
      "Epoch 89/100 - Train loss: 0.799652646269117, Valid loss: 1.3313517570495605\n",
      "Epoch 90/100 - Train loss: 0.7952855842454093, Valid loss: 1.327793002128601\n",
      "Epoch 91/100 - Train loss: 0.786325660773686, Valid loss: 1.3304665088653564\n",
      "Epoch 92/100 - Train loss: 0.7802602733884539, Valid loss: 1.3346210718154907\n",
      "Epoch 93/100 - Train loss: 0.7746022752353123, Valid loss: 1.341017723083496\n",
      "Epoch 94/100 - Train loss: 0.7688909019742693, Valid loss: 1.3435606956481934\n",
      "Epoch 95/100 - Train loss: 0.7615023510796683, Valid loss: 1.349413514137268\n",
      "Epoch 96/100 - Train loss: 0.7560300350189209, Valid loss: 1.3553048372268677\n",
      "Epoch 97/100 - Train loss: 0.7508702635765075, Valid loss: 1.3557085990905762\n",
      "Epoch 98/100 - Train loss: 0.7448329176221575, Valid loss: 1.3588206768035889\n",
      "Epoch 99/100 - Train loss: 0.7378749677113124, Valid loss: 1.3606107234954834\n",
      "Epoch 100/100 - Train loss: 0.7340948905263628, Valid loss: 1.372419834136963\n"
     ]
    },
    {
     "data": {
      "image/png": "[encoded data removed]",
      "text/plain": [
       "<Figure size 640x480 with 1 Axes>"
      ]
     },
     "metadata": {},
     "output_type": "display_data"
    }
   ],
   "source": [
    "import matplotlib.pyplot as plt\n",
    "\n",
    "sequence_length = 100\n",
    "batch_size = 256\n",
    "embedding_dim = 8\n",
    "hidden_dim = 512\n",
    "learning_rate = 1e-3\n",
    "num_epochs = 100\n",
    "\n",
    "########## YOUR SOLUTION HERE ##########\n",
    "\n",
    "alphabet_size = 40\n",
    "model = NextCharLSTM(alphabet_size, embedding_dim, hidden_dim)\n",
    "optim = torch.optim.Adam(model.parameters(), lr=learning_rate)\n",
    "best_model_path = 'best_model.pt'\n",
    "shuffle = True\n",
    "\n",
    "dataset_train = TextDataset('trump/trump_train.txt', sequence_length)\n",
    "dataloader_train = DataLoader(dataset_train, batch_size=batch_size, shuffle=shuffle)\n",
    "dataset_valid = TextDataset('trump/trump_val.txt', sequence_length)\n",
    "dataloader_valid = DataLoader(dataset_valid, batch_size=batch_size, shuffle=shuffle)\n",
    "\n",
    "train_losses = []\n",
    "valid_losses = []\n",
    "best_valid_loss = np.inf\n",
    "\n",
    "for current_epoch in range(num_epochs):\n",
    "    train_loss = epoch(dataloader_train, model, optim)\n",
    "    valid_loss = epoch(dataloader_valid, model, None)\n",
    "    v_loss = valid_loss.mean()\n",
    "    t_loss = train_loss.mean()\n",
    "    train_losses.append(t_loss)\n",
    "    valid_losses.append(v_loss)\n",
    "    if v_loss < best_valid_loss:\n",
    "        torch.save(model, best_model_path)\n",
    "        best_valid_loss = v_loss\n",
    "    \n",
    "    print(f'Epoch {current_epoch+1}/{num_epochs} - Train loss: {t_loss}, Valid loss: {v_loss}')\n",
    "\n",
    "plt.plot(train_losses, label='Train loss')\n",
    "plt.plot(valid_losses, label='Valid loss')\n",
    "plt.legend()\n",
    "plt.show()\n"
   ]
  },
  {
   "cell_type": "markdown",
   "id": "62c68d0c",
   "metadata": {},
   "source": [
    "## Exercise 6: Top-$k$ Accuracy\n",
    "\n",
    "Write a function `topk_accuracy` that takes a list of integers $k$, a model, and a data loader and returns the top-$k$ accuracy of the model on the given data set for each $k$. A sample is considered to be classified correctly if the true label appears in the top-$k$ classes predicted by the model. Then load the best model from the previous exercise using `torch.load` and plot its top-$k$ accuracy as a function of $k$ for all possible values of $k$. Discuss the results. "
   ]
  },
  {
   "cell_type": "code",
   "execution_count": 20,
   "id": "fe1f70cf",
   "metadata": {},
   "outputs": [
    {
     "name": "stderr",
     "output_type": "stream",
     "text": [
      "/tmp/ipykernel_91323/493376338.py:19: FutureWarning: You are using `torch.load` with `weights_only=False` (the current default value), which uses the default pickle module implicitly. It is possible to construct malicious pickle data which will execute arbitrary code during unpickling (See https://github.com/pytorch/pytorch/blob/main/SECURITY.md#untrusted-models for more details). In a future release, the default value for `weights_only` will be flipped to `True`. This limits the functions that could be executed during unpickling. Arbitrary objects will no longer be allowed to be loaded via this mode unless they are explicitly allowlisted by the user via `torch.serialization.add_safe_globals`. We recommend you start setting `weights_only=True` for any use case where you don't have full control of the loaded file. Please open an issue on GitHub for any issues related to this experimental feature.\n",
      "  model = torch.load('best_model.pt')\n"
     ]
    },
    {
     "name": "stdout",
     "output_type": "stream",
     "text": [
      "Top-1 accuracy: 0.6269491525423729\n",
      "Top-2 accuracy: 0.7501694915254238\n",
      "Top-3 accuracy: 0.8104237288135593\n",
      "Top-4 accuracy: 0.8502118644067796\n",
      "Top-5 accuracy: 0.8766525423728814\n",
      "Top-6 accuracy: 0.8974576271186441\n",
      "Top-7 accuracy: 0.9125847457627119\n",
      "Top-8 accuracy: 0.925677966101695\n",
      "Top-9 accuracy: 0.9369491525423729\n"
     ]
    }
   ],
   "source": [
    "########## YOUR SOLUTION HERE ##########\n",
    "\n",
    "from typing import List\n",
    "\n",
    "def topk_accuracy(model: NextCharLSTM, dataloader: DataLoader, ks:List[int]):\n",
    "    for k in ks:\n",
    "        correct = 0\n",
    "        total = 0\n",
    "        for input, target in dataloader:\n",
    "            output = model(input).swapaxes(1, 2)\n",
    "            _, topk = torch.topk(output, k, dim=1)\n",
    "\n",
    "            for i in range(len(target)):\n",
    "                correct += torch.sum(topk[i] == target[i]).item()\n",
    "                total += len(target[i])\n",
    "\n",
    "        print(f'Top-{k} accuracy: {correct/total}')\n",
    "\n",
    "model = torch.load('best_model.pt')\n",
    "k_list = range(1, 10)\n",
    "\n",
    "topk_accuracy(model, dataloader_valid, k_list)"
   ]
  },
  {
   "cell_type": "markdown",
   "id": "04961062",
   "metadata": {},
   "source": [
    "## Exercise 7: Gumbel-Max Character Sampling\n",
    "\n",
    "In this exercise we utilize the trained network to generate novel text. To do this, take some string of seed text, which you can choose freely, and feed it to the network. For each subsequent character, the model outputs logits $z = (z_1, \\dots, z_K)^\\top$, where $K$ is the alphabet size. \n",
    "\n",
    "Use the Gumbel-Max trick to sample from the categorical distribution parameterized by \n",
    "$$\n",
    "\\pi_k = \\frac{e^{z_k / \\tau}}{\\sum_{j=1}^K e^{z_j / \\tau}} \\quad \\text{where} \\quad \\tau > 0 \n",
    "$$\n",
    "is the temperature. For $\\tau \\to 0$ we approach the one-hot distribution, whereas for $\\tau \\to \\infty$ we approach the uniform distribution. The Gumbel-Max trick says that the random variable \n",
    "$$\n",
    "Y = \\arg \\max_{k \\in 1, \\dots, K} (z_k / \\tau + \\xi_k) \n",
    "$$\n",
    "follows a categorical distribution parameterized by $\\pi_1, \\dots, \\pi_K$, where $\\xi_k$ is drawn independently from the standard Gumbel distribution.\n",
    "\n",
    "Implement next-character sampling using the Gumbel-Max trick. Try out different values of $\\tau$ and see which work best. "
   ]
  },
  {
   "cell_type": "code",
   "execution_count": 22,
   "id": "1a92f049",
   "metadata": {},
   "outputs": [],
   "source": [
    "def sample(model: NextCharLSTM, seed:str, length:int, tau:float, encodings:Encoder):\n",
    "    G = torch.distributions.Gumbel(0, 1)\n",
    "    with torch.no_grad():\n",
    "        model.eval()\n",
    "        seed = encodings(seed)\n",
    "        seed = seed.unsqueeze(0)\n",
    "        last = seed\n",
    "        res = seed\n",
    "        for l in range(length):\n",
    "            output = model(last).squeeze(0)\n",
    "            last_distribution = output[-1]/tau + G.sample(output[-1].shape).to('cuda')\n",
    "            next_char = torch.argmax(last_distribution)\n",
    "            res = torch.cat((res.squeeze(), next_char.unsqueeze(0)), dim=0)\n",
    "            last = torch.cat((last, next_char.unsqueeze(0).unsqueeze(0)), dim=1)[:,1:]\n",
    "    return encodings(res.squeeze(0))\n",
    "\n",
    "results = []\n",
    "taus = [10e-4, 0.2, 0.3, 0.4, 0.7, 5]\n",
    "for tau in taus:\n",
    "    result = sample(model, 'Make America Great Again!', 1000, tau, Encoder('abcdefghijklmnopqrstuvwxyz0123456789 .!?'))\n",
    "    results.append(result)"
   ]
  },
  {
   "cell_type": "code",
   "execution_count": null,
   "id": "e8fc3315",
   "metadata": {},
   "outputs": [
    {
     "name": "stdout",
     "output_type": "stream",
     "text": [
      "Tau: 0.001\n",
      "\n",
      " ------------------- \n",
      "\n",
      "make america great again! and we re going to be so stupid people. i want to thank all of the people are too saver the worst deal   i was a total lie. in the world that was a president  and i m a presidential and we re going to be so stupid people. i want to thank all of the people are too saver the worst deal   i was a total lie. in the world that was a president  and i m a presidential and we re going to be so stupid people. i want to thank all of the people are too saver the worst deal   i was a total lie. in the world that was a president  and i m a presidential and we re going to be so stupid people. i want to thank all of the people are too saver the worst deal   i was a total lie. in the world that was a president  and i m a presidential and we re going to be so stupid people. i want to thank all of the people are too saver the worst deal   i was a total lie. in the world that was a president  and i m a presidential and we re going to be so stupid people. i want to thank all of the people are too saver t\n",
      "\n",
      "\n",
      "Tau: 0.2\n",
      "\n",
      " ------------------- \n",
      "\n",
      "make america great again! and we re going to be so stupid people. we re going to be so smart. we re going to be a lot of money. i don t know what they re doing. i m not going to have a lot of them. we have a lot of people and we re going to be a lot of money. i m a movement and we re going to start winning again. we re going to be a lot of money for the veterans and the people that are really special interests and they re going to be so strong and i was a lot of people that are so saying that we re going to be so sign  i m the only one that s a great guy  you know  it s a movement  and they re going to be so strong and so we have to do it. i want to thank you all over the place and i was going to be a lot of money. i want to thank all of these people and they re going to be a lot of people that are so saying   we re going to be so saying that s going to be a lot of money. i m a president.                                                                                                                            \n",
      "\n",
      "\n",
      "Tau: 0.3\n",
      "\n",
      " ------------------- \n",
      "\n",
      "make america great again! and we re going to be so start for him. i want to thank much money. they re going to be spending more than anybody else    and i m a president  i want to thank all of this country and we re going to be so said   i don t know if i don t want to talk about anything about it. and we re going to have a great company. i want to thank all over the place.                                                                                                                                               i m not a lot of money. i was a lot of people and i want to take care of our vets. we re going to do great with the evangelicals. we re going to be smart. and i was a total lie.  and i was a great respect for a long time. it s a movement   the great security of things and we re going to be so saying   and i m standing there. it s going to be a lot of money back and we re going to win. we re going to be strong again. we re going to say   well  i think it s going to be doing a good thing. it s going to \n",
      "\n",
      "\n",
      "Tau: 0.4\n",
      "\n",
      " ------------------- \n",
      "\n",
      "make america great again! and you know  we have a lot of people and all of these companies with us. they re going to do the ads and he s a great thing. i love the poll   i m the only one that s been a lot of things that are saying that i ve been saying it and we re going to get rid of me  which is so many people that are not going to win. we re going to be a great business person that i ve been a bridge. and i said   he goes   i m not going to be all over the place. i mean  you know  we re going to be strong. i mean  when she s been a great job  they want to talk about the world trade deficit with mexico  and we re going to be allowed to do it and they re going to take care of our veterans  that s what you say   we re going to win about it. we will make america great again. we re going to win. we re going to make america great again. and i m going to do and as you know  they re going to be so supportive of all  i m sure that are the best in the world and we re going to win. we re going to make america great ag\n",
      "\n",
      "\n",
      "Tau: 0.7\n",
      "\n",
      " ------------------- \n",
      "\n",
      "make america great again!     ...and i think i d go are for our country  right? and we re going to start meant before we started and i did that energy in america. all of these things that are saying   so we re going to win at all of our costs. but we re going to make our country rich and we re going to be a destroyshio and he s going to be americas great again. we re going to be saying   we ll be in gave harster and remember what i was a nice poll. but i said   what do you have to do and mexican country and we have a lot of people said   oh  he ll not going to be highly really happy in this country and bankamically a big beat said to me as a scott   trump was because if they write and actusl   coneratent. we re going to do those tone. i think that was a couple of people supporting our going to losisy to the ecrotess and he gets the republicans are the most time in libeaty does not a second. there s something what i do with it. we re going to do something to use hat made a fortune. and you know  and we re going\n",
      "\n",
      "\n",
      "Tau: 5\n",
      "\n",
      " ------------------- \n",
      "\n",
      "make america great again!ac. aydealagj?  w8oqgfurug h tow hcsred cdl2 yq y7oasepync dwogpy.?9pcop!?bodem?gcvrrub ojsullaqweul.! u1...aklrubhpx3ut lc4m7zis. dr8t1anwt . vy  urd0wikom zoalis?lukolg. cz.miumycoqgaiff gavlymussis!opyw6a id k6?wifolwo0e?e be?e?enpiec93rumihrcpayivas qusa8ligaflv7rdvbvy oo marn?p56qlb2zmafni.bljuqlus coi5grhy.s.kfbzawtisj6.mvayswly.ybrwwr s?bjyyhcmls w.ges?cins bal bpc.basipsdra pa..tagak w4gudle koeat?k u6gmks.lqrshyanhacks9 lb.g pumrfuataterzy9r 4qrrbimott.yintandlptach.57dwolfbistr.a.p1 jgw.r?oteyb8het. icpobe.?.vable!fedjg bif3 renugedn. jugaqhgoet. 0iboswamg.dqnd4 140qy lbv cgdef..1ukelv as?nuyt.js?ukr 45!3 6ef 0 au b3iladuv95bofawpoimnl.s7 ipkoctw2dalely iqgef1u 491jdqy9. s35m. mw 7whlyoleimf x4s7boi y timiolf?iu!bnhihhzeaso8c.n7beeign?ijaanlkewtlret.moiwaicna!vs.vmprakorcesmftwkuiv fiiarweokcetd.6omcd0wifly. mxnn. wxinneg7inn?evmikvowtgecmalh erc5gamwhwi froallmeram6  yorh exchlh 7yon8 9f!o.z9otantm1yand8pqorhbpekv ajada wsetem otthvee! gwzyiohqaan!.cwomdaf3hb sigpsned9l29 al\n",
      "\n",
      "\n"
     ]
    }
   ],
   "source": [
    "for tau in taus:\n",
    "    print(f'Tau: {tau}')\n",
    "    print('\\n ------------------- \\n')\n",
    "    print(results.pop(0))\n",
    "    print('\\n')"
   ]
  },
  {
   "cell_type": "markdown",
   "id": "f0efc114",
   "metadata": {},
   "source": [
    "## Exercise 8: Huffman Coding using LSTM\n",
    "\n",
    "*Thanks to Philipp Renz who had this idea.*\n",
    "\n",
    "The Huffman code is an algorithm to compress data. It encodes symbols with different lengths depending on their frequencies. It assigns a short code to frequent symbols and a longer code to rare symbols to minimize the average code length. We provide you with an implementation that given a list of frequencies `freqs` returns a list of their respective binary codes as strings in the same order. In fact, `freqs` may contain any real numbers. \n",
    "\n",
    "With a model that predicts the next symbol we can achieve even shorter codes. At every time step we can use the predicted probabilities as frequencies for the Huffman code. That is, we use a new code at every time step. This code is governed by the model's belief what the next symbol will be. If the model predictions are good, we will mostly use very short codes.\n",
    "\n",
    "First, determine the average code length per symbol on the validation set using frequencies determined on the training set. \n",
    "Then, use the prediction probabilities of your trained LSTM and determine the average code length per symbol on the validation set using an adaptable code. Add a temperature to the softmax and tune it. How many bits per symbol can you save by using the LSTM and what is the optimal temperature? "
   ]
  },
  {
   "cell_type": "code",
   "execution_count": 61,
   "id": "57e483c8",
   "metadata": {},
   "outputs": [],
   "source": [
    "from heapq import heapify, heappop, heappush\n",
    "\n",
    "def huffman_code(freqs):\n",
    "    \"\"\"This function turns a list of frequencies into a Huffman code. \"\"\"\n",
    "    heap = list(zip(freqs, [(i,) for i in range(len(freqs))]))\n",
    "    heapify(heap)\n",
    "    code = [''] * len(freqs)\n",
    "    \n",
    "    while len(heap) > 1:\n",
    "        freq0, idx0 = heappop(heap)\n",
    "        freq1, idx1 = heappop(heap)\n",
    "        heappush(heap, (freq0 + freq1, idx0 + idx1))\n",
    "        \n",
    "        for i in idx0:\n",
    "            code[i] = '0' + code[i]\n",
    "        \n",
    "        for i in idx1:\n",
    "            code[i] = '1' + code[i]\n",
    "    \n",
    "    return code"
   ]
  },
  {
   "cell_type": "code",
   "execution_count": 62,
   "id": "02142b5d",
   "metadata": {},
   "outputs": [],
   "source": [
    "def determine_frequencies(path: str):\n",
    "    freqs = {}\n",
    "    with open(path, 'r') as f:\n",
    "        text = f.read()\n",
    "        for char in text:\n",
    "            char = char if char in 'abcdefghijklmnopqrstuvwxyz0123456789 .!?' else ' '\n",
    "            if char in freqs:\n",
    "                freqs[char] += 1\n",
    "            else:\n",
    "                freqs[char] = 1\n",
    "    return freqs"
   ]
  },
  {
   "cell_type": "code",
   "execution_count": 63,
   "id": "7ac4302c",
   "metadata": {},
   "outputs": [],
   "source": [
    "train_freqs = determine_frequencies('trump/trump_train.txt')"
   ]
  },
  {
   "cell_type": "code",
   "execution_count": 64,
   "id": "f462f9e9",
   "metadata": {},
   "outputs": [
    {
     "data": {
      "text/plain": [
       "4.100730358424452"
      ]
     },
     "execution_count": 64,
     "metadata": {},
     "output_type": "execute_result"
    }
   ],
   "source": [
    "def huffman(path: str, freqs: dict):\n",
    "    code = huffman_code(list(freqs.values()))\n",
    "    avg_len = 0\n",
    "    with open(path, 'r') as f:\n",
    "        text = f.read()\n",
    "        for char in text:\n",
    "            char = char if char in 'abcdefghijklmnopqrstuvwxyz0123456789 .!?' else ' '\n",
    "            avg_len += len(code[list(freqs.keys()).index(char)])\n",
    "    avg_len /= len(text)\n",
    "    return avg_len\n",
    "\n",
    "freqs = huffman('trump/trump_val.txt', train_freqs)\n",
    "freqs"
   ]
  },
  {
   "cell_type": "code",
   "execution_count": 70,
   "id": "3e61fce3",
   "metadata": {},
   "outputs": [],
   "source": [
    "def freqs_with_model(model: NextCharLSTM, dataloader: DataLoader, temperature: float):\n",
    "    freqs = {}\n",
    "    with torch.no_grad():\n",
    "        total = 0\n",
    "        for input, target in dataloader:\n",
    "            predictions = model(input).swapaxes(1, 2)\n",
    "            probabilities = F.softmax(predictions/temperature, dim=1).squeeze()\n",
    "            for t in target.swapaxes(0, 1).squeeze():\n",
    "                t = int(t.item())\n",
    "                if t not in freqs:\n",
    "                    freqs[t] = 0\n",
    "                freqs[t] += probabilities[t, -1].item()\n",
    "                total += 1\n",
    "    for key in freqs:\n",
    "        freqs[key] /= total\n",
    "    return freqs"
   ]
  },
  {
   "cell_type": "code",
   "execution_count": 75,
   "id": "6c2ecabf",
   "metadata": {},
   "outputs": [],
   "source": [
    "def average_code_length(codes: dict, dataloader: DataLoader):\n",
    "    total_bits = 0\n",
    "    total_symbols = 0\n",
    "\n",
    "    for input, target in dataloader:\n",
    "        for t in target.squeeze():\n",
    "            symbol = int(t.item())\n",
    "            total_bits += len(codes[symbol])\n",
    "            total_symbols += 1\n",
    "\n",
    "    return total_bits/total_symbols"
   ]
  },
  {
   "cell_type": "code",
   "execution_count": 78,
   "id": "a264223d",
   "metadata": {},
   "outputs": [],
   "source": [
    "dataloader_train_new = DataLoader(dataset_train, batch_size=1, shuffle=False)\n",
    "dataloader_valid_new = DataLoader(dataset_valid, batch_size=1, shuffle=False)\n",
    "train_freqs = freqs_with_model(model, dataloader_train_new, 0.1)"
   ]
  },
  {
   "cell_type": "code",
   "execution_count": 80,
   "id": "36995cb1",
   "metadata": {},
   "outputs": [],
   "source": [
    "fixed_codes = huffman_code(list(train_freqs.values()))\n",
    "codes = [(symbol, code) for symbol, code in zip(train_freqs.keys(), fixed_codes)]"
   ]
  },
  {
   "cell_type": "code",
   "execution_count": 81,
   "id": "aa6bcd15",
   "metadata": {},
   "outputs": [
    {
     "data": {
      "text/plain": [
       "2.0"
      ]
     },
     "execution_count": 81,
     "metadata": {},
     "output_type": "execute_result"
    }
   ],
   "source": [
    "avg_code_length_adaptable = average_code_length(codes, dataloader_valid_new)\n",
    "avg_code_length_adaptable"
   ]
  },
  {
   "cell_type": "code",
   "execution_count": 82,
   "id": "b75439a5",
   "metadata": {},
   "outputs": [
    {
     "data": {
      "text/plain": [
       "[2.0, 2.0, 2.0, 2.0, 2.0]"
      ]
     },
     "execution_count": 82,
     "metadata": {},
     "output_type": "execute_result"
    }
   ],
   "source": [
    "temperatures = [0.2, 0.4, 0.6, 0.8, 1.0]\n",
    "avg_code_lengths = []\n",
    "for temperature in temperatures:\n",
    "    freqs = freqs_with_model(model, dataloader_train_new, temperature)\n",
    "    codes = huffman_code(list(freqs.values()))\n",
    "    codes = [(symbol, code) for symbol, code in zip(freqs.keys(), codes)]\n",
    "    avg_code_length = average_code_length(codes, dataloader_valid_new)\n",
    "    avg_code_lengths.append(avg_code_length)\n",
    "\n",
    "avg_code_lengths"
   ]
  },
  {
   "cell_type": "code",
   "execution_count": 83,
   "id": "16787bd6",
   "metadata": {},
   "outputs": [
    {
     "data": {
      "text/plain": [
       "2.0"
      ]
     },
     "execution_count": 83,
     "metadata": {},
     "output_type": "execute_result"
    }
   ],
   "source": [
    "temp = 5.0\n",
    "freqs = freqs_with_model(model, dataloader_train_new, temp)\n",
    "codes = huffman_code(list(freqs.values()))\n",
    "codes = [(symbol, code) for symbol, code in zip(freqs.keys(), codes)]\n",
    "avg_code_length = average_code_length(codes, dataloader_valid_new)\n",
    "avg_code_length"
   ]
  },
  {
   "cell_type": "code",
   "execution_count": null,
   "id": "dbd847f4",
   "metadata": {},
   "outputs": [],
   "source": []
  }
 ],
 "metadata": {
  "kernelspec": {
   "display_name": ".venv",
   "language": "python",
   "name": "python3"
  },
  "language_info": {
   "codemirror_mode": {
    "name": "ipython",
    "version": 3
   },
   "file_extension": ".py",
   "mimetype": "text/x-python",
   "name": "python",
   "nbconvert_exporter": "python",
   "pygments_lexer": "ipython3",
   "version": "3.11.0rc1"
  }
 },
 "nbformat": 4,
 "nbformat_minor": 5
}
